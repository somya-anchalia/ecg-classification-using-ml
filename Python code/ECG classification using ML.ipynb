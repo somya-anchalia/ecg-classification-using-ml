{
 "cells": [
  {
   "cell_type": "code",
   "execution_count": null,
   "id": "ff114426",
   "metadata": {},
   "outputs": [],
   "source": [
    "import numpy as np # linear algebra\n",
    "import pandas as pd # data processing\n",
    "import matplotlib.pyplot as plt\n",
    "from sklearn.model_selection import train_test_split\n",
    "import seaborn as sns\n",
    "import time\n",
    "from sklearn.decomposition import PCA\n",
    "from sklearn import metrics\n",
    "from sklearn.model_selection import train_test_split\n",
    "from sklearn.preprocessing import StandardScaler\n",
    "from sklearn.naive_bayes import BernoulliNB\n",
    "from sklearn.neighbors import KNeighborsClassifier\n",
    "from sklearn.tree import DecisionTreeClassifier\n",
    "from sklearn.utils import resample\n",
    "from keras.utils import to_categorical\n",
    "from keras.models import Sequential\n",
    "from keras.layers import Dense, Activation"
   ]
  },
  {
   "cell_type": "code",
   "execution_count": null,
   "id": "aae28943",
   "metadata": {},
   "outputs": [],
   "source": [
    "# CNN for MIT-BIH Arrhythmia Dataset\n",
    "\n",
    "train_data = pd.read_csv(\"mitbih_train.csv\", header = None) \n",
    "train_data=pd.DataFrame(train_data)\n",
    "test_data = pd.read_csv(\"mitbih_test.csv\", header = None)\n",
    "test_data=pd.DataFrame(test_data)"
   ]
  },
  {
   "cell_type": "code",
   "execution_count": null,
   "id": "5e80188a",
   "metadata": {},
   "outputs": [],
   "source": [
    "# Print some data for train dataset\n",
    "\n",
    "train_data.head()"
   ]
  },
  {
   "cell_type": "code",
   "execution_count": null,
   "id": "b2371f0a",
   "metadata": {},
   "outputs": [],
   "source": [
    "# Print some data for test dataset\n",
    "\n",
    "test_data.head()"
   ]
  },
  {
   "cell_type": "code",
   "execution_count": null,
   "id": "16fb90ec",
   "metadata": {},
   "outputs": [],
   "source": [
    "# Describe the data frame\n",
    "train_data.describe()"
   ]
  },
  {
   "cell_type": "code",
   "execution_count": null,
   "id": "e681db80",
   "metadata": {},
   "outputs": [],
   "source": [
    "train_data.shape"
   ]
  },
  {
   "cell_type": "code",
   "execution_count": null,
   "id": "e3de69fa",
   "metadata": {},
   "outputs": [],
   "source": [
    "# convert target values to integers\n",
    "train_data[187]=train_data[187].astype(int)"
   ]
  },
  {
   "cell_type": "code",
   "execution_count": null,
   "id": "6cbbb39f",
   "metadata": {},
   "outputs": [],
   "source": [
    "train_data.head()"
   ]
  },
  {
   "cell_type": "code",
   "execution_count": null,
   "id": "4cb3bc2e",
   "metadata": {},
   "outputs": [],
   "source": [
    "from tensorflow.k\n",
    "# define features and target\n",
    "X = train_data.iloc[:, train_data.columns != 187]\n",
    "y = train_data.iloc[:, train_data.columns == 187]\n",
    "y = to_"
   ]
  },
  {
   "cell_type": "code",
   "execution_count": null,
   "id": "ccf907f1",
   "metadata": {},
   "outputs": [],
   "source": [
    "# Print the shape of datasets after partition\n",
    "X.shape"
   ]
  },
  {
   "cell_type": "code",
   "execution_count": null,
   "id": "05f07420",
   "metadata": {},
   "outputs": [],
   "source": [
    "y.shape"
   ]
  },
  {
   "cell_type": "code",
   "execution_count": null,
   "id": "4ee56708",
   "metadata": {},
   "outputs": [],
   "source": [
    "# train-test split\n",
    "X_train, X_test, y_train, y_test = train_test_split(X, y, test_size=0.3, random_state=42)"
   ]
  },
  {
   "cell_type": "code",
   "execution_count": null,
   "id": "94ea76e4",
   "metadata": {},
   "outputs": [],
   "source": [
    "# scale values\n",
    "sc = StandardScaler()\n",
    "sc.fit(X_train)\n",
    "X_train = sc.transform(X_train)\n",
    "X_test = sc.transform(X_test)"
   ]
  },
  {
   "cell_type": "code",
   "execution_count": null,
   "id": "adf454c2",
   "metadata": {},
   "outputs": [],
   "source": [
    "# Experiments\n",
    "\n",
    "test_scores_models = []\n",
    "\n",
    "for num_components in range(2, y.shape[0], y.shape[0]//10):\n",
    "    print(f'{num_components} components\\n')\n",
    "    \n",
    "#     # call the principal component\n",
    "#     pca = PCA(n_components = num_components, random_state=42) # for reproducability\n",
    "    \n",
    "#     X_train = pca.fit_transform(X_train)    \n",
    "#     X_test = pca.transform(X_test)\n",
    "    \n",
    "    # BERNOULLI NB\n",
    "    print(\"------------------------BernoulliNB------------------------\\n\")\n",
    "    start = time.time()    \n",
    "    nb = BernoulliNB().fit(X_train, y_train)\n",
    "    print('Accuracy of BernoulliNB is', nb.score(X_test, y_test))\n",
    "    end = time.time()\n",
    "    test_scores_models.append(nb.score(X_test, y_test))\n",
    "    \n",
    "    print(f'BernoulliNB took {end-start} seconds to run\\n')\n",
    "    \n",
    "    # KNN\n",
    "    print(\"------------------------KNN------------------------\\n\")\n",
    "    start = time.time()\n",
    "    knn = KNeighborsClassifier(n_neighbors = 3).fit(X_train, y_train)\n",
    "    print('Accuracy of KNN is', knn.score(X_test, y_test))\n",
    "    end = time.time()\n",
    "    test_scores_models.append(knn.score(X_test, y_test))\n",
    "    \n",
    "    print(f'KNN took {end-start} seconds to run\\n')\n",
    "\n",
    "    # DECISION TREE\n",
    "    print(\"------------------------DECISION TREE------------------------\\n\")\n",
    "    start = time.time()\n",
    "    dt = DecisionTreeClassifier(max_depth = 5).fit(X_train, y_train)\n",
    "    print('Accuracy of Decision Tree is', dt.score(X_test, y_test))\n",
    "    end = time.time()    \n",
    "    test_scores_models.append(dt.score(X_test, y_test))\n",
    "\n",
    "    print(f'Decision Tree took {end-start} seconds to run\\n')\n",
    "    \n",
    "    break\n"
   ]
  },
  {
   "cell_type": "code",
   "execution_count": null,
   "id": "b003b739",
   "metadata": {},
   "outputs": [],
   "source": [
    "# Bar PLot\n",
    "\n",
    "models = ['BernoulliNB', 'KNN', 'DECISION TREE']\n",
    "\n",
    "plt.bar(models, test_scores_models)\n",
    "\n",
    "plt.xlabel('Classifier Models')\n",
    "plt.ylabel('Accuracy')\n",
    "\n",
    "plt.title('Accuracies of different classifier models')\n",
    "plt.show()"
   ]
  },
  {
   "cell_type": "code",
   "execution_count": null,
   "id": "5ab12178",
   "metadata": {},
   "outputs": [],
   "source": [
    "# ================================================================================================================"
   ]
  },
  {
   "cell_type": "code",
   "execution_count": null,
   "id": "474c1dff",
   "metadata": {},
   "outputs": [],
   "source": [
    "# Display counts of each classes - Most of Data samples are of normal HeartBeats & its a biased data\n",
    "\n",
    "sns.catplot(x = 187, kind = 'count', data = train_data)"
   ]
  },
  {
   "cell_type": "code",
   "execution_count": null,
   "id": "4fe05384",
   "metadata": {},
   "outputs": [],
   "source": [
    "class_0=train_data[train_data[187]==0.0]\n",
    "class_1=train_data[train_data[187]==1.0]\n",
    "class_2=train_data[train_data[187]==2.0]\n",
    "class_3=train_data[train_data[187]==3.0]\n",
    "class_4=train_data[train_data[187]==4.0]\n",
    "train_data = pd.concat([class_1, class_2, class_3, class_4, class_0])"
   ]
  },
  {
   "cell_type": "code",
   "execution_count": null,
   "id": "bc2d5986",
   "metadata": {},
   "outputs": [],
   "source": [
    "sns.set_style('whitegrid')\n",
    "plt.figure(figsize = (20,8))\n",
    "plt.plot(train_data.iloc[0, 0:187], color = 'green')\n",
    "plt.xlabel(\"Time (in ms)\")\n",
    "plt.ylabel(\"Heart Beat Amplitude\")\n",
    "plt.legend()\n",
    "plt.show()"
   ]
  },
  {
   "cell_type": "code",
   "execution_count": null,
   "id": "49f21860",
   "metadata": {},
   "outputs": [],
   "source": [
    "# Balancing the data\n",
    "\n",
    "# Upsampling is the increasing of the spatial resolution while keeping the 2D representation of an image.\n",
    "\n",
    "class_1_upsample = resample(class_1, n_samples = 20000, replace = True, random_state = 123)\n",
    "class_2_upsample = resample(class_2, n_samples = 20000, replace = True, random_state = 123)\n",
    "class_3_upsample = resample(class_3, n_samples = 20000, replace = True, random_state = 123)\n",
    "class_4_upsample = resample(class_4, n_samples = 20000, replace = True, random_state = 123)"
   ]
  },
  {
   "cell_type": "code",
   "execution_count": null,
   "id": "ed2236e9",
   "metadata": {},
   "outputs": [],
   "source": [
    "# Downsampling is the reduction in spatial resolution while keeping the same two-dimensional (2D) representation\n",
    "\n",
    "class_0_downsample = resample(class_0, n_samples = 20000, replace = True, random_state = 123)"
   ]
  },
  {
   "cell_type": "code",
   "execution_count": null,
   "id": "54c6b994",
   "metadata": {},
   "outputs": [],
   "source": [
    "# Join the data samples\n",
    "\n",
    "train_data_1 = pd.concat([class_1_upsample, class_2_upsample, class_3_upsample, class_4_upsample, class_0_downsample])"
   ]
  },
  {
   "cell_type": "code",
   "execution_count": null,
   "id": "9ff802cb",
   "metadata": {},
   "outputs": [],
   "source": [
    "# # Plotting the types of hearbeats\n",
    "\n",
    "# plt.figure(figsize= (5,5))\n",
    "# my_circle = plt.Circle((0,0), 0.7, color = 'white') \n",
    "# plt.pie(train_data_1[187].value_counts(), labels=['Normal Beats','Unknown Beats','Ventricular ectopic beats','Supraventricular ectopic beats',\n",
    "#                                                 'Fusion Beats'], autopct = '%0.0f%%', colors = ['red','orange','blue','magenta','cyan'])\n",
    "# p = plt.gcf()\n",
    "# p.gca().add_artist(my_circle)\n",
    "# plt.show()"
   ]
  },
  {
   "cell_type": "code",
   "execution_count": null,
   "id": "b5616e30",
   "metadata": {},
   "outputs": [],
   "source": [
    "# # Apply Keras Models\n",
    "\n",
    "# Y=train_data_1.values[:, -1].astype(int)\n",
    "# y=to_categorical(Y)\n",
    "# X_train_1, X_valid, y_train_1, y_valid = train_test_split(train_data_1.drop([187], axis=1), y, test_size = 0.3)"
   ]
  },
  {
   "cell_type": "code",
   "execution_count": null,
   "id": "3d9d6c60",
   "metadata": {},
   "outputs": [],
   "source": [
    "# model = Sequential()\n",
    "# model.add(Dense(50, activation='relu', input_shape=(187,)))\n",
    "# model.add(Dense(50, activation='relu'))\n",
    "# model.add(Dense(5, activation='softmax'))\n",
    "\n",
    "# model.compile(optimizer='adam',\n",
    "#               loss='categorical_crossentropy',\n",
    "#               metrics=['accuracy'])\n",
    "\n",
    "# history=model.fit(X_train_1, y_train_1, epochs=10,validation_data=(X_valid, y_valid))\n",
    "\n",
    "# print(\"Evaluation: \")\n",
    "# mse, acc = model.evaluate(X_valid, y_valid)\n",
    "# print('mean_squared_error :', mse)\n",
    "# print('accuracy:', acc)"
   ]
  },
  {
   "cell_type": "code",
   "execution_count": null,
   "id": "5ff37798",
   "metadata": {},
   "outputs": [],
   "source": []
  },
  {
   "cell_type": "code",
   "execution_count": null,
   "id": "438e225d",
   "metadata": {},
   "outputs": [],
   "source": []
  },
  {
   "cell_type": "code",
   "execution_count": null,
   "id": "6a280c41",
   "metadata": {},
   "outputs": [],
   "source": []
  }
 ],
 "metadata": {
  "kernelspec": {
   "display_name": "Python 3 (ipykernel)",
   "language": "python",
   "name": "python3"
  },
  "language_info": {
   "codemirror_mode": {
    "name": "ipython",
    "version": 3
   },
   "file_extension": ".py",
   "mimetype": "text/x-python",
   "name": "python",
   "nbconvert_exporter": "python",
   "pygments_lexer": "ipython3",
   "version": "3.11.4"
  }
 },
 "nbformat": 4,
 "nbformat_minor": 5
}
